{
 "cells": [
  {
   "cell_type": "markdown",
   "id": "62ff95dc-8ffd-4453-9dd3-a123e46ab861",
   "metadata": {},
   "source": [
    "The dataset present highlight the various creative ventures on Kickstarter and how various campaigns to support their respective projects and whether they were able to reach their goal of securing the resources from the platform. The various attributes we would be looking at include\n",
    "- goal\n",
    "- amount pledged\n",
    "- state of project\n",
    "- category of project\n",
    "- staff picked\n",
    "- spotlight\n",
    "\n",
    "We would be scrutinizing the available data for patterns and derive conclusions based on our findings. We would be using numpy as the primary library to do data analysis."
   ]
  },
  {
   "cell_type": "markdown",
   "id": "68e1a7fc-bbbb-4f8d-b177-7265789a6bc2",
   "metadata": {},
   "source": [
    "We would be importing multiple columns of data from the Kickstarter dataset to do our analysis. The following steps include loading the data into numpy and performing basic descriptive statistics."
   ]
  },
  {
   "cell_type": "code",
   "execution_count": 1,
   "id": "5edacc7c-09e0-4760-9bf2-2af40ccdc78c",
   "metadata": {
    "tags": []
   },
   "outputs": [],
   "source": [
    "# Importing numpy\n",
    "import numpy as np"
   ]
  },
  {
   "cell_type": "code",
   "execution_count": 2,
   "id": "cbb09ce0-7a47-4ac1-bc65-e81c1b58c720",
   "metadata": {
    "tags": []
   },
   "outputs": [],
   "source": [
    "# Loading project data into numpy\n",
    "projects = np.loadtxt('HW3_kickstarter.csv', skiprows=1, usecols=0, delimiter=',')"
   ]
  },
  {
   "cell_type": "code",
   "execution_count": 3,
   "id": "1de100d9-8948-4cde-949e-bbcf50c757b1",
   "metadata": {
    "tags": []
   },
   "outputs": [
    {
     "name": "stdout",
     "output_type": "stream",
     "text": [
      "The size of project is 4184\n"
     ]
    }
   ],
   "source": [
    "# Calculating the size of the project\n",
    "print('The size of project is', projects.size)"
   ]
  },
  {
   "cell_type": "markdown",
   "id": "a94b2833-f8d0-4d66-ac1b-ef9ba72cc76b",
   "metadata": {},
   "source": [
    "Since we have to work with currencies from different countries, to maintain uniformity, we would convert all the currencies to US dollars to continue our analysis."
   ]
  },
  {
   "cell_type": "code",
   "execution_count": 4,
   "id": "4e1ecae9-4e8d-4b4f-a04d-5d1037dddb33",
   "metadata": {
    "tags": []
   },
   "outputs": [],
   "source": [
    "# Loading the pledge amount data into numpy\n",
    "pledge_amount = np.loadtxt('HW3_kickstarter.csv', skiprows=1, usecols=3, delimiter=',')"
   ]
  },
  {
   "cell_type": "code",
   "execution_count": 5,
   "id": "4445d710-8650-4619-9add-c9961cdbf709",
   "metadata": {
    "tags": []
   },
   "outputs": [],
   "source": [
    "# Loading currency info data into numpy\n",
    "currency = np.loadtxt('HW3_kickstarter.csv', skiprows=1, usecols=6, delimiter=',', dtype=str)"
   ]
  },
  {
   "cell_type": "code",
   "execution_count": 6,
   "id": "80c358ea-2d7f-4cb9-b56f-0269f6a2ac6b",
   "metadata": {
    "tags": []
   },
   "outputs": [
    {
     "data": {
      "text/plain": [
       "array(['AUD', 'CAD', 'CHF', 'DKK', 'EUR', 'GBP', 'NOK', 'NZD', 'SEK',\n",
       "       'USD'], dtype='<U3')"
      ]
     },
     "execution_count": 6,
     "metadata": {},
     "output_type": "execute_result"
    }
   ],
   "source": [
    "# Displaying all the unique currency loaded\n",
    "np.unique(currency)"
   ]
  },
  {
   "cell_type": "code",
   "execution_count": 7,
   "id": "7d087df0-c656-47e0-8c70-887139cc98b5",
   "metadata": {
    "tags": []
   },
   "outputs": [
    {
     "data": {
      "text/plain": [
       "array([ 321.  , 7070.  , 4431.12, ...,   50.  ,  155.  ,  155.  ])"
      ]
     },
     "execution_count": 7,
     "metadata": {},
     "output_type": "execute_result"
    }
   ],
   "source": [
    "# Displaying all the pledged amounts\n",
    "pledge_amount"
   ]
  },
  {
   "cell_type": "code",
   "execution_count": 8,
   "id": "d02e7f55-d20a-4542-8356-8c2f501abd5a",
   "metadata": {
    "tags": []
   },
   "outputs": [
    {
     "data": {
      "text/plain": [
       "array([ 321.  ,  643.37, 4431.12, ...,   50.  ,  189.1 ,  155.  ])"
      ]
     },
     "execution_count": 8,
     "metadata": {},
     "output_type": "execute_result"
    }
   ],
   "source": [
    "# Code to convert all the different currencies to US dollars\n",
    "x = 0\n",
    "currency_convert = []\n",
    "np.array(currency_convert)\n",
    "while x < pledge_amount.size:\n",
    "    if currency[x] == 'AUD':\n",
    "        currency_convert = np.append(currency_convert, pledge_amount[x] * 0.64)\n",
    "    elif currency[x] == 'CAD':\n",
    "        currency_convert = np.append(currency_convert, pledge_amount[x] * 0.73)\n",
    "    elif currency[x] == 'CHF':\n",
    "        currency_convert = np.append(currency_convert, pledge_amount[x] * 1.10)\n",
    "    elif currency[x] == 'DKK':\n",
    "        currency_convert = np.append(currency_convert, pledge_amount[x] * 0.14)\n",
    "    elif currency[x] == 'EUR':\n",
    "        currency_convert = np.append(currency_convert, pledge_amount[x] * 1.06)\n",
    "    elif currency[x] == 'GBP':\n",
    "        currency_convert = np.append(currency_convert, pledge_amount[x] * 1.22)\n",
    "    elif currency[x] == 'NOK':\n",
    "        currency_convert = np.append(currency_convert, pledge_amount[x] * 0.092)\n",
    "    elif currency[x] == 'NZD':\n",
    "        currency_convert = np.append(currency_convert, pledge_amount[x] * 0.60)\n",
    "    elif currency[x] == 'SEK':\n",
    "        currency_convert = np.append(currency_convert, pledge_amount[x] * 0.091)\n",
    "    else:\n",
    "        currency_convert = np.append(currency_convert, pledge_amount[x])\n",
    "    x+=1\n",
    "currency_convert\n",
    "        "
   ]
  },
  {
   "cell_type": "code",
   "execution_count": 9,
   "id": "71ed4728-ae78-487c-84fb-58eead8be48a",
   "metadata": {
    "tags": []
   },
   "outputs": [
    {
     "data": {
      "text/plain": [
       "4184"
      ]
     },
     "execution_count": 9,
     "metadata": {},
     "output_type": "execute_result"
    }
   ],
   "source": [
    "# Displaying the count of all the amounts pledged\n",
    "pledge_amount.size"
   ]
  },
  {
   "cell_type": "code",
   "execution_count": 10,
   "id": "022c8daf-01f7-4ca9-9897-0a87e8d4f4f8",
   "metadata": {
    "tags": []
   },
   "outputs": [
    {
     "name": "stdout",
     "output_type": "stream",
     "text": [
      "Maximum amount pledged $ 111111.77\n"
     ]
    }
   ],
   "source": [
    "# Displaying the max amount pledged in US dollars\n",
    "print('Maximum amount pledged $', np.max(currency_convert))"
   ]
  },
  {
   "cell_type": "code",
   "execution_count": 11,
   "id": "200e3da3-62ca-45c6-9031-e81cdbec5de7",
   "metadata": {
    "tags": []
   },
   "outputs": [
    {
     "name": "stdout",
     "output_type": "stream",
     "text": [
      "Mean of amount pledged $ 1205.51\n"
     ]
    }
   ],
   "source": [
    "# Displaying the mean of amount pledged in US dollars\n",
    "mean_pledged_amount = np.mean(currency_convert)\n",
    "print(f'Mean of amount pledged $ {mean_pledged_amount:.2f}')"
   ]
  },
  {
   "cell_type": "code",
   "execution_count": 12,
   "id": "aa72e8b8-92ce-47b4-b91b-68b9f58e47e9",
   "metadata": {
    "tags": []
   },
   "outputs": [
    {
     "name": "stdout",
     "output_type": "stream",
     "text": [
      "Minimum amount pledged $ 0.0\n"
     ]
    }
   ],
   "source": [
    "# Displaying the minimum amount pledged in US dollars\n",
    "print('Minimum amount pledged $', np.min(currency_convert))"
   ]
  },
  {
   "cell_type": "code",
   "execution_count": 13,
   "id": "036fd0f9-61d5-40f9-838a-175dba9dc9b3",
   "metadata": {
    "tags": []
   },
   "outputs": [
    {
     "name": "stdout",
     "output_type": "stream",
     "text": [
      "Median of amount pledged $ 85.0\n"
     ]
    }
   ],
   "source": [
    "# Displaying the mean amount pledged in US dollars\n",
    "print('Median of amount pledged $', np.median(currency_convert))"
   ]
  },
  {
   "cell_type": "code",
   "execution_count": 14,
   "id": "bb995b4c-dc99-426f-a1ad-09358921ff91",
   "metadata": {
    "tags": []
   },
   "outputs": [
    {
     "name": "stdout",
     "output_type": "stream",
     "text": [
      "Standard deviation of amount pledged $ 5022.06\n"
     ]
    }
   ],
   "source": [
    "# Displaying the standard deviation of amount pledged in US dollars\n",
    "std_pledged_amount =  np.std(currency_convert)\n",
    "print(f'Standard deviation of amount pledged $ {std_pledged_amount:.2f}')"
   ]
  },
  {
   "cell_type": "code",
   "execution_count": 15,
   "id": "f68dfc76-c2d7-4a30-9edc-500f9d763167",
   "metadata": {
    "tags": []
   },
   "outputs": [],
   "source": [
    "# getting the array of all pledges greater than 2500 US dollars\n",
    "greater_amt = currency_convert[currency_convert >= 2500]"
   ]
  },
  {
   "cell_type": "code",
   "execution_count": 16,
   "id": "85ee4842-41ef-47c1-8a03-3e02c0d9f1e3",
   "metadata": {
    "tags": []
   },
   "outputs": [],
   "source": [
    "percent_project = (greater_amt.size/currency_convert.size) * 100"
   ]
  },
  {
   "cell_type": "code",
   "execution_count": 17,
   "id": "b1d4bff8-1886-435f-ad89-0f776371acd2",
   "metadata": {
    "tags": []
   },
   "outputs": [
    {
     "name": "stdout",
     "output_type": "stream",
     "text": [
      "Percent of amounts pledged at least 2500 US dollars 10.44 %\n"
     ]
    }
   ],
   "source": [
    "# Displaying the percent of amounts pledged at least 2500 US dollars\n",
    "print(f'Percent of amounts pledged at least 2500 US dollars {percent_project:.2f} %')"
   ]
  },
  {
   "cell_type": "markdown",
   "id": "d0c95986-f527-4a52-957b-c2124a038f4e",
   "metadata": {},
   "source": [
    "We are loading categorical data about the various projects in the dataset. This would help in comprehending the distribution of projects and derive necessary conclusions for our analysis.\n",
    "\n",
    "We would be calculating how much each of the catergories would be contributing to the overall set of projects in the dataset."
   ]
  },
  {
   "cell_type": "code",
   "execution_count": 18,
   "id": "7daa3e12-04ea-4a0d-ba68-eca55616f667",
   "metadata": {
    "tags": []
   },
   "outputs": [],
   "source": [
    "# Loading the category data into numpy\n",
    "category = np.loadtxt('HW3_kickstarter.csv', skiprows=1, usecols=12, dtype=str, delimiter=',')"
   ]
  },
  {
   "cell_type": "code",
   "execution_count": 19,
   "id": "f37052f5-8c4c-4b9e-be76-3cefc8afddb1",
   "metadata": {
    "tags": []
   },
   "outputs": [
    {
     "data": {
      "text/plain": [
       "array(['Conceptual Art', 'Conceptual Art', 'Conceptual Art', ...,\n",
       "       'Painting', 'Painting', 'Painting'], dtype='<U14')"
      ]
     },
     "execution_count": 19,
     "metadata": {},
     "output_type": "execute_result"
    }
   ],
   "source": [
    "# Displaying all the category data\n",
    "category"
   ]
  },
  {
   "cell_type": "code",
   "execution_count": 20,
   "id": "d6fa35b0-b9c4-42df-b0bc-4be1ee43b59f",
   "metadata": {
    "tags": []
   },
   "outputs": [
    {
     "data": {
      "text/plain": [
       "array(['Ceramics', 'Conceptual Art', 'Digital Art', 'Illustration',\n",
       "       'Painting'], dtype='<U14')"
      ]
     },
     "execution_count": 20,
     "metadata": {},
     "output_type": "execute_result"
    }
   ],
   "source": [
    "# Displaying all the unique categories of data\n",
    "np.unique(category)"
   ]
  },
  {
   "cell_type": "code",
   "execution_count": 21,
   "id": "24b09faa-0ecd-4b2c-91fa-ae67595063ef",
   "metadata": {
    "tags": []
   },
   "outputs": [],
   "source": [
    "# Storing the unique categories and their frequency\n",
    "unique_category, counts_category = np.unique(category, return_counts=True)"
   ]
  },
  {
   "cell_type": "code",
   "execution_count": 22,
   "id": "435056eb-cf3c-43b2-a2ac-e167afb17168",
   "metadata": {
    "tags": []
   },
   "outputs": [
    {
     "name": "stdout",
     "output_type": "stream",
     "text": [
      "Frequency of all the categories\n",
      " [['Ceramics' '204']\n",
      " ['Conceptual Art' '879']\n",
      " ['Digital Art' '1054']\n",
      " ['Illustration' '461']\n",
      " ['Painting' '1586']]\n"
     ]
    }
   ],
   "source": [
    "print('Frequency of all the categories\\n',np.array((unique_category, counts_category)).T)"
   ]
  },
  {
   "cell_type": "code",
   "execution_count": 23,
   "id": "7bc12861-2b69-4c4c-8533-e9724acc948b",
   "metadata": {
    "tags": []
   },
   "outputs": [],
   "source": [
    "# Calculating the percent of each category from the data\n",
    "percentage_category = (counts_category/category.size) * 100"
   ]
  },
  {
   "cell_type": "code",
   "execution_count": 24,
   "id": "0c66f983-9a97-44fb-948f-eb47539ec2b9",
   "metadata": {
    "tags": []
   },
   "outputs": [
    {
     "name": "stdout",
     "output_type": "stream",
     "text": [
      "Percentage of all the categories\n",
      " [['Ceramics' '4.875717017208412']\n",
      " ['Conceptual Art' '21.008604206500955']\n",
      " ['Digital Art' '25.191204588910132']\n",
      " ['Illustration' '11.018164435946463']\n",
      " ['Painting' '37.90630975143404']]\n"
     ]
    }
   ],
   "source": [
    "# Displaying all the categories with the percentage of their frequency\n",
    "print('Percentage of all the categories\\n', np.array((unique_category, percentage_category)).T)"
   ]
  },
  {
   "cell_type": "code",
   "execution_count": 25,
   "id": "9055c873-9746-4467-87d5-9f5c7df3372c",
   "metadata": {
    "tags": []
   },
   "outputs": [],
   "source": [
    "# Importing matplotlib for visual representation of data\n",
    "import matplotlib.pyplot as plt"
   ]
  },
  {
   "cell_type": "markdown",
   "id": "788d7b3e-bdae-42a3-aae8-88a73b97969e",
   "metadata": {},
   "source": [
    "We are plotting the graph to visually represent the distribution of different categories to the overall projects in Kickstarter"
   ]
  },
  {
   "cell_type": "code",
   "execution_count": 26,
   "id": "db843e21-6b6d-4b26-a1d4-3782a43a9d5d",
   "metadata": {
    "tags": []
   },
   "outputs": [
    {
     "data": {
      "text/plain": [
       "Text(0.5, 1.0, 'Category of project by percentage')"
      ]
     },
     "execution_count": 26,
     "metadata": {},
     "output_type": "execute_result"
    },
    {
     "data": {
      "image/png": "[encoded data removed]",
      "text/plain": [
       "<Figure size 640x480 with 1 Axes>"
      ]
     },
     "metadata": {},
     "output_type": "display_data"
    }
   ],
   "source": [
    "# Setting the properties of the bar graph for the category of project by percentage\n",
    "plt.bar(unique_category, percentage_category, color='red', width=0.3)\n",
    "plt.xlabel(\"Category\")\n",
    "plt.ylabel(\"Percentage\")\n",
    "plt.title(\"Category of project by percentage\")"
   ]
  },
  {
   "cell_type": "markdown",
   "id": "57c1b78f-7fb9-4a79-afc1-e267eedcdf88",
   "metadata": {},
   "source": [
    "Inference1: From the bar graph, we could conclude that most of the projects in the data set were for some form of painting and the lowest were in the category of ceramics.\n",
    "\n",
    "Inference2: All of the projects were some form of art forms in the kickstarter dataset."
   ]
  },
  {
   "cell_type": "code",
   "execution_count": 27,
   "id": "fa64d389-67f8-405b-b106-8564a5389293",
   "metadata": {
    "tags": []
   },
   "outputs": [
    {
     "data": {
      "text/plain": [
       "array(['canceled', 'failed', 'live', 'successful', 'suspended'],\n",
       "      dtype='<U10')"
      ]
     },
     "execution_count": 27,
     "metadata": {},
     "output_type": "execute_result"
    }
   ],
   "source": [
    "# Loading all the project_states data into numpy\n",
    "project_states = np.loadtxt('HW3_kickstarter.csv', skiprows=1, usecols=4, dtype=str, delimiter=',')\n",
    "# Displaying all the unique project states from the data\n",
    "np.unique(project_states)"
   ]
  },
  {
   "cell_type": "code",
   "execution_count": 28,
   "id": "77bf34fb-c2ad-4352-972c-ae93d2cefe88",
   "metadata": {
    "tags": []
   },
   "outputs": [
    {
     "name": "stdout",
     "output_type": "stream",
     "text": [
      "84,322,286,0,0,120,557,768,461,1586\n"
     ]
    }
   ],
   "source": [
    "# Code to track all the success and failure scenarios of kickstarter projects for each of the categories\n",
    "y = 0\n",
    "ceramics_success = 0\n",
    "ceramics_failure = 0\n",
    "concept_art_success = 0\n",
    "concept_art_failure = 0\n",
    "digital_art_success = 0\n",
    "digital_art_failure = 0\n",
    "ills_success = 0\n",
    "ills_failure = 0\n",
    "painting_success = 0\n",
    "painting_failure = 0\n",
    "other_outcomes = 0\n",
    "while y < project_states.size:\n",
    "    if category[y] == 'Ceramics':\n",
    "        if project_states[y] == 'successful':\n",
    "            ceramics_success += 1\n",
    "        else:\n",
    "            ceramics_failure += 1\n",
    "    elif category[y] == 'Conceptual Art':\n",
    "        if project_states[y] == 'successful':\n",
    "            concept_art_success += 1\n",
    "        else:\n",
    "            concept_art_failure += 1\n",
    "    elif category[y] == 'Digital Art':\n",
    "        if project_states[y] == 'successful':\n",
    "            digital_art_success += 1\n",
    "        else:\n",
    "            digital_art_failure += 1\n",
    "    elif category[y] == 'Illustration':\n",
    "        if project_states[y] == 'successful':\n",
    "            ills_success += 1\n",
    "        else:\n",
    "            ills_failure += 1\n",
    "    elif category[y] == 'Painting':\n",
    "        if project_states[y] == 'successful':\n",
    "            painting_success += 1\n",
    "        else:\n",
    "            painting_failure += 1\n",
    "    else:\n",
    "        other_outcomes += 1\n",
    "    y += 1\n",
    "print(f'{ceramics_success},{concept_art_success},{digital_art_success},{ills_success},{painting_success},{ceramics_failure},{concept_art_failure},{digital_art_failure},{ills_failure},{painting_failure}')"
   ]
  },
  {
   "cell_type": "code",
   "execution_count": 29,
   "id": "71dd7008-346b-4850-b2e9-108c42271594",
   "metadata": {
    "tags": []
   },
   "outputs": [
    {
     "name": "stdout",
     "output_type": "stream",
     "text": [
      "Percent success of all the categories\n",
      " [['Ceramics' '41.17647058823529']\n",
      " ['Conceptual Art' '36.6325369738339']\n",
      " ['Digital Art' '27.13472485768501']\n",
      " ['Illustration' '0.0']\n",
      " ['Painting' '0.0']]\n"
     ]
    }
   ],
   "source": [
    "# Calculating the success percentage of all the categories\n",
    "ceramics_success_percent = (ceramics_success/(ceramics_success + ceramics_failure)) * 100\n",
    "concept_art_success_percent = (concept_art_success/(concept_art_success + concept_art_failure)) * 100\n",
    "digital_art_success_percent = (digital_art_success/(digital_art_success + digital_art_failure)) * 100\n",
    "ills_success_percent = (ills_success/(ills_success + ills_failure)) * 100\n",
    "painting_success_percent = (painting_success/(painting_success + painting_failure)) * 100\n",
    "percent_success_all = [ceramics_success_percent, concept_art_success_percent, digital_art_success_percent, ills_success_percent, painting_success_percent]\n",
    "np.array(percent_success_all)\n",
    "print('Percent success of all the categories\\n', np.array((unique_category, percent_success_all)).T)\n",
    "\n"
   ]
  },
  {
   "cell_type": "code",
   "execution_count": 30,
   "id": "95de4d02-4ef5-473a-90df-5269132889a0",
   "metadata": {
    "tags": []
   },
   "outputs": [
    {
     "data": {
      "text/plain": [
       "Text(0.5, 1.0, 'Category success percentage')"
      ]
     },
     "execution_count": 30,
     "metadata": {},
     "output_type": "execute_result"
    },
    {
     "data": {
      "image/png": "[encoded data removed]",
      "text/plain": [
       "<Figure size 640x480 with 1 Axes>"
      ]
     },
     "metadata": {},
     "output_type": "display_data"
    }
   ],
   "source": [
    "# Setting the properties of the bar graph for category success percentage\n",
    "plt.bar(unique_category, percent_success_all, color='red', width=0.3)\n",
    "plt.xlabel(\"Category\")\n",
    "plt.ylabel(\"Percentage\")\n",
    "plt.title(\"Category success percentage\")"
   ]
  },
  {
   "cell_type": "markdown",
   "id": "95a74645-1dc0-4e84-8647-a9aa1ce69ef6",
   "metadata": {},
   "source": [
    "The graph potrays the percentage of success achieved by each category in reaching their funding goal on Kickstarter. We could see that Illustration and Paintings categories failed to reach target audience."
   ]
  },
  {
   "cell_type": "markdown",
   "id": "0972bbfd-e0fc-4c10-b0dc-abe095683618",
   "metadata": {},
   "source": [
    "Ceramics was the most successful category. Paintings and illustrations were the least successful categories"
   ]
  },
  {
   "cell_type": "markdown",
   "id": "5583be94-1c60-4c3c-beee-fc5e04916e10",
   "metadata": {},
   "source": [
    "We are loading staff picked projects and projects that were put on spotlight on Kickstarter, to analyse their influence on the success of the various projects"
   ]
  },
  {
   "cell_type": "code",
   "execution_count": 31,
   "id": "fcdd9f9d-4065-4752-a9f0-f95c788e8b84",
   "metadata": {
    "tags": []
   },
   "outputs": [],
   "source": [
    "# Loading staff_pick data into numpy\n",
    "staff_pick = np.loadtxt('HW3_kickstarter.csv', skiprows=1, usecols=8, dtype=str, delimiter=',')"
   ]
  },
  {
   "cell_type": "code",
   "execution_count": 32,
   "id": "7c41ba72-0504-467d-b78d-2a64f252dd1c",
   "metadata": {
    "tags": []
   },
   "outputs": [
    {
     "data": {
      "text/plain": [
       "array(['FALSE', 'FALSE', 'FALSE', ..., 'FALSE', 'FALSE', 'FALSE'],\n",
       "      dtype='<U5')"
      ]
     },
     "execution_count": 32,
     "metadata": {},
     "output_type": "execute_result"
    }
   ],
   "source": [
    "# Displaying all the staff_pick data\n",
    "staff_pick"
   ]
  },
  {
   "cell_type": "code",
   "execution_count": 33,
   "id": "7e29865f-e08e-492a-92bd-067950fc8c49",
   "metadata": {
    "tags": []
   },
   "outputs": [
    {
     "data": {
      "text/plain": [
       "4184"
      ]
     },
     "execution_count": 33,
     "metadata": {},
     "output_type": "execute_result"
    }
   ],
   "source": [
    "# Displaying the staff pick data size\n",
    "staff_pick.size"
   ]
  },
  {
   "cell_type": "code",
   "execution_count": 34,
   "id": "09f62c52-1b76-4015-b20a-f29733f90cd9",
   "metadata": {
    "tags": []
   },
   "outputs": [],
   "source": [
    "# Loading spotlight data into numpy\n",
    "spotlight = np.loadtxt('HW3_kickstarter.csv', skiprows=1, usecols=13, dtype=str, delimiter=',')"
   ]
  },
  {
   "cell_type": "code",
   "execution_count": 35,
   "id": "26903ba1-9714-4a88-a54a-1780cd6000f3",
   "metadata": {
    "tags": []
   },
   "outputs": [
    {
     "data": {
      "text/plain": [
       "array(['TRUE', 'TRUE', 'TRUE', ..., 'FALSE', 'FALSE', 'FALSE'],\n",
       "      dtype='<U5')"
      ]
     },
     "execution_count": 35,
     "metadata": {},
     "output_type": "execute_result"
    }
   ],
   "source": [
    "# Displaying the spotlight data\n",
    "spotlight"
   ]
  },
  {
   "cell_type": "code",
   "execution_count": 36,
   "id": "e910d10e-c51c-4b7b-b080-a735a5a91313",
   "metadata": {
    "tags": []
   },
   "outputs": [
    {
     "data": {
      "text/plain": [
       "4184"
      ]
     },
     "execution_count": 36,
     "metadata": {},
     "output_type": "execute_result"
    }
   ],
   "source": [
    "# Displaying the spotlight data size\n",
    "spotlight.size"
   ]
  },
  {
   "cell_type": "code",
   "execution_count": 37,
   "id": "3ed202cc-2be9-42a1-b793-d7f1d744ae0a",
   "metadata": {
    "tags": []
   },
   "outputs": [],
   "source": [
    "# Calculating the count of all projects that were staff picked or not\n",
    "unique_staff_pick, counts_staff_pick = np.unique(staff_pick, return_counts=True)"
   ]
  },
  {
   "cell_type": "code",
   "execution_count": 38,
   "id": "33e664bd-acfe-410c-91f5-cc13e38c8041",
   "metadata": {
    "tags": []
   },
   "outputs": [
    {
     "name": "stdout",
     "output_type": "stream",
     "text": [
      "[['FALSE' '3960']\n",
      " ['TRUE' '224']]\n",
      "Total staff picked projects is 224\n"
     ]
    }
   ],
   "source": [
    "# Displaying the count of projects that were staff picked or not\n",
    "print(np.array((unique_staff_pick, counts_staff_pick)).T)\n",
    "print('Total staff picked projects is', counts_staff_pick[1])"
   ]
  },
  {
   "cell_type": "code",
   "execution_count": 39,
   "id": "787f75f8-e208-4626-b12c-7a2fdbad955e",
   "metadata": {
    "tags": []
   },
   "outputs": [],
   "source": [
    "# Calculating count of all projects that were in spotlight or not\n",
    "unique_spotlight, counts_spotlight = np.unique(spotlight, return_counts=True)"
   ]
  },
  {
   "cell_type": "code",
   "execution_count": 40,
   "id": "ca0f2196-78c3-42e6-9761-bea31d660715",
   "metadata": {
    "tags": []
   },
   "outputs": [
    {
     "name": "stdout",
     "output_type": "stream",
     "text": [
      "[['FALSE' '3492']\n",
      " ['TRUE' '692']]\n",
      "Total spotlight projects is 692\n"
     ]
    }
   ],
   "source": [
    "# Displaying the count of all projects that were in spotlight or not\n",
    "print(np.array((unique_spotlight, counts_spotlight)).T)\n",
    "print('Total spotlight projects is', counts_spotlight[1])"
   ]
  },
  {
   "cell_type": "code",
   "execution_count": 41,
   "id": "5f261073-55b8-40ff-95cb-1c3d5409011f",
   "metadata": {
    "tags": []
   },
   "outputs": [],
   "source": [
    "# Calculating the percent of projects that were staff picked or not\n",
    "percentage_staff_pick = (counts_staff_pick/staff_pick.size) * 100"
   ]
  },
  {
   "cell_type": "code",
   "execution_count": 42,
   "id": "b6a6f7f2-eaee-43a6-a861-2ddc189613f3",
   "metadata": {
    "tags": []
   },
   "outputs": [
    {
     "name": "stdout",
     "output_type": "stream",
     "text": [
      "[['FALSE' '94.64627151051626']\n",
      " ['TRUE' '5.353728489483748']]\n"
     ]
    }
   ],
   "source": [
    "print(np.array((unique_staff_pick, percentage_staff_pick)).T)"
   ]
  },
  {
   "cell_type": "code",
   "execution_count": 43,
   "id": "6cfe6889-4f3a-440c-b6e9-6cf5d8f428a1",
   "metadata": {
    "tags": []
   },
   "outputs": [],
   "source": [
    "# Calculating the percent of projects that were in spotlight or not\n",
    "percentage_spotlight = (counts_spotlight/spotlight.size) * 100"
   ]
  },
  {
   "cell_type": "code",
   "execution_count": 44,
   "id": "b4cd5147-e38f-422e-b31c-1e2b4c3ab2c5",
   "metadata": {
    "tags": []
   },
   "outputs": [
    {
     "name": "stdout",
     "output_type": "stream",
     "text": [
      "[['FALSE' '83.46080305927343']\n",
      " ['TRUE' '16.539196940726576']]\n"
     ]
    }
   ],
   "source": [
    "print(np.array((unique_spotlight, percentage_spotlight)).T)"
   ]
  },
  {
   "cell_type": "code",
   "execution_count": 45,
   "id": "5bb205d1-e5cc-4928-b2de-8488318f5472",
   "metadata": {
    "tags": []
   },
   "outputs": [
    {
     "name": "stdout",
     "output_type": "stream",
     "text": [
      "Spotlight projects success rate is 100.0 %\n"
     ]
    }
   ],
   "source": [
    "# Calculating the success rate of the projects that were put into spotlight\n",
    "z = 0\n",
    "spotlight_success = 0\n",
    "spotlight_failure = 0\n",
    "not_spotlight = 0\n",
    "while z < project_states.size:\n",
    "    if spotlight[z] == 'TRUE':\n",
    "        if project_states[z] == 'successful':\n",
    "            spotlight_success += 1\n",
    "        else:\n",
    "            spotlight_failure += 1\n",
    "    else:\n",
    "        not_spotlight += 1\n",
    "    z += 1\n",
    "success_rate_spotlight = (spotlight_success/(spotlight_success + spotlight_failure)) * 100\n",
    "print(f'Spotlight projects success rate is {success_rate_spotlight} %')\n",
    "            "
   ]
  },
  {
   "cell_type": "code",
   "execution_count": 46,
   "id": "ddf00498-bc8e-40c2-a2ea-ce0cf0a8d402",
   "metadata": {
    "tags": []
   },
   "outputs": [
    {
     "name": "stdout",
     "output_type": "stream",
     "text": [
      "Staff picked projects success rate is 72.77 %\n",
      "61\n"
     ]
    }
   ],
   "source": [
    "# Calculating the success rate of the projects that were staff picked\n",
    "a = 0\n",
    "staff_pick_success = 0\n",
    "staff_pick_failure = 0\n",
    "not_staff_pick = 0\n",
    "while a < project_states.size:\n",
    "    if staff_pick[a] == 'TRUE':\n",
    "        if project_states[a] == 'successful':\n",
    "            staff_pick_success += 1\n",
    "        else:\n",
    "            staff_pick_failure += 1\n",
    "    else:\n",
    "        not_staff_pick += 1\n",
    "    a += 1\n",
    "success_rate_staff = (staff_pick_success/(staff_pick_success + staff_pick_failure)) * 100\n",
    "print(f'Staff picked projects success rate is {success_rate_staff:.2f} %')\n",
    "print(staff_pick_failure)\n",
    "            "
   ]
  },
  {
   "cell_type": "markdown",
   "id": "6b76586a-8495-48e5-82f6-2f06c9e0209b",
   "metadata": {
    "tags": []
   },
   "source": [
    "Inference: Spotlight feature is associated with the highest percentage of successful projects. This could means that the Kickstarter platform would boost projects into spotlight that are closer to their funding goals. Staff picked projects might have a concrete idea at their base but some of them might fail to reach their target audience and fail ultimately to reach their goal."
   ]
  },
  {
   "cell_type": "markdown",
   "id": "4eb2d73b-7643-432b-a579-04cb8a8f0598",
   "metadata": {
    "tags": []
   },
   "source": [
    "We would be analysing the staff picked projects that failed to ultimately reach their goal."
   ]
  },
  {
   "cell_type": "markdown",
   "id": "e83a1c26-0576-4f7e-bef6-6357c48e4298",
   "metadata": {},
   "source": [
    "We could see that out of the total 224 staff picked projects, 61 failed to reach their goals."
   ]
  },
  {
   "cell_type": "code",
   "execution_count": 47,
   "id": "9d2abe36-6c74-426d-8541-fc280fdbbf55",
   "metadata": {
    "tags": []
   },
   "outputs": [
    {
     "name": "stdout",
     "output_type": "stream",
     "text": [
      "46,14,0,1\n"
     ]
    }
   ],
   "source": [
    "# Calculating the count of all staff_picked projects that failed due to it being cancelled, suspended or failed\n",
    "# or the funding is still live\n",
    "b = 0\n",
    "staff_pick_failed = 0\n",
    "staff_pick_cancelled = 0\n",
    "staff_pick_suspended = 0\n",
    "staff_pick_live = 0\n",
    "while b < project_states.size:\n",
    "    if staff_pick[b] == 'TRUE':\n",
    "        if project_states[b] == 'failed':\n",
    "            staff_pick_failed += 1\n",
    "        if project_states[b] == 'canceled':\n",
    "            staff_pick_cancelled += 1\n",
    "        if project_states[b] == 'suspended':\n",
    "            staff_pick_suspended += 1\n",
    "        if project_states[b] == 'live':\n",
    "            staff_pick_live += 1\n",
    "    b += 1\n",
    "print(f'{staff_pick_failed},{staff_pick_cancelled},{staff_pick_suspended},{staff_pick_live}')\n",
    "            \n"
   ]
  },
  {
   "cell_type": "code",
   "execution_count": 48,
   "id": "b1954575-7177-4595-bdf3-131610fc8bbf",
   "metadata": {
    "tags": []
   },
   "outputs": [
    {
     "name": "stdout",
     "output_type": "stream",
     "text": [
      "[['failed' '46']\n",
      " ['cancelled' '14']\n",
      " ['suspended' '0']\n",
      " ['live' '1']]\n"
     ]
    }
   ],
   "source": [
    "# Displaying the count of each reason the staff picked project didn't reach their funding goal\n",
    "staff_pick_array = ['failed','cancelled','suspended','live']\n",
    "staff_pick_array_values = [staff_pick_failed, staff_pick_cancelled, staff_pick_suspended, staff_pick_live]\n",
    "print(np.array((staff_pick_array, staff_pick_array_values)).T)"
   ]
  },
  {
   "cell_type": "code",
   "execution_count": 49,
   "id": "07a3ec9e-d952-4338-999b-19a6dbeb096d",
   "metadata": {
    "tags": []
   },
   "outputs": [
    {
     "data": {
      "text/plain": [
       "Text(0.5, 1.0, 'Staff picked projects distribution')"
      ]
     },
     "execution_count": 49,
     "metadata": {},
     "output_type": "execute_result"
    },
    {
     "data": {
      "image/png": "[encoded data removed]",
      "text/plain": [
       "<Figure size 640x480 with 1 Axes>"
      ]
     },
     "metadata": {},
     "output_type": "display_data"
    }
   ],
   "source": [
    "# Setting the properties of the bar graph for staff picked projects that couldn't meet funding goals\n",
    "plt.bar(staff_pick_array, staff_pick_array_values, color='blue', width=0.3)\n",
    "plt.xlabel(\"Status\")\n",
    "plt.ylabel(\"Count\")\n",
    "plt.title(\"Staff picked projects distribution\")"
   ]
  },
  {
   "cell_type": "markdown",
   "id": "8d129ccc-d98e-4da9-8d9c-b6a394637264",
   "metadata": {},
   "source": [
    "We could see from the graph that not all the staff picked projects that didn't reach the funding goal failed. We see that 14 of them were cancelled for some reasons and 1 of them is still currently running to obtain more funds."
   ]
  }
 ],
 "metadata": {
  "kernelspec": {
   "display_name": "Python 3 (ipykernel)",
   "language": "python",
   "name": "python3"
  },
  "language_info": {
   "codemirror_mode": {
    "name": "ipython",
    "version": 3
   },
   "file_extension": ".py",
   "mimetype": "text/x-python",
   "name": "python",
   "nbconvert_exporter": "python",
   "pygments_lexer": "ipython3",
   "version": "3.11.4"
  }
 },
 "nbformat": 4,
 "nbformat_minor": 5
}
